{
  "nbformat": 4,
  "nbformat_minor": 0,
  "metadata": {
    "colab": {
      "provenance": [],
      "mount_file_id": "1Ow36AMvsVAKYRrHeuCYPo25soGyYIfPn",
      "authorship_tag": "ABX9TyM/V+AKhdHDKeIDKHeIhIO8",
      "include_colab_link": true
    },
    "kernelspec": {
      "name": "python3",
      "display_name": "Python 3"
    },
    "language_info": {
      "name": "python"
    }
  },
  "cells": [
    {
      "cell_type": "markdown",
      "metadata": {
        "id": "view-in-github",
        "colab_type": "text"
      },
      "source": [
        "<a href=\"https://colab.research.google.com/github/ritika-33/image-classification/blob/main/catndogimgclassification.ipynb\" target=\"_parent\"><img src=\"https://colab.research.google.com/assets/colab-badge.svg\" alt=\"Open In Colab\"/></a>"
      ]
    },
    {
      "cell_type": "code",
      "source": [
        "!pip install kaggle"
      ],
      "metadata": {
        "id": "OtH1He6C_PEy",
        "colab": {
          "base_uri": "https://localhost:8080/"
        },
        "outputId": "cf7f0423-d651-4254-9dfa-99a80daa63ca"
      },
      "execution_count": 1,
      "outputs": [
        {
          "output_type": "stream",
          "name": "stdout",
          "text": [
            "Requirement already satisfied: kaggle in /usr/local/lib/python3.10/dist-packages (1.6.17)\n",
            "Requirement already satisfied: six>=1.10 in /usr/local/lib/python3.10/dist-packages (from kaggle) (1.16.0)\n",
            "Requirement already satisfied: certifi>=2023.7.22 in /usr/local/lib/python3.10/dist-packages (from kaggle) (2024.8.30)\n",
            "Requirement already satisfied: python-dateutil in /usr/local/lib/python3.10/dist-packages (from kaggle) (2.8.2)\n",
            "Requirement already satisfied: requests in /usr/local/lib/python3.10/dist-packages (from kaggle) (2.32.3)\n",
            "Requirement already satisfied: tqdm in /usr/local/lib/python3.10/dist-packages (from kaggle) (4.66.6)\n",
            "Requirement already satisfied: python-slugify in /usr/local/lib/python3.10/dist-packages (from kaggle) (8.0.4)\n",
            "Requirement already satisfied: urllib3 in /usr/local/lib/python3.10/dist-packages (from kaggle) (2.2.3)\n",
            "Requirement already satisfied: bleach in /usr/local/lib/python3.10/dist-packages (from kaggle) (6.2.0)\n",
            "Requirement already satisfied: webencodings in /usr/local/lib/python3.10/dist-packages (from bleach->kaggle) (0.5.1)\n",
            "Requirement already satisfied: text-unidecode>=1.3 in /usr/local/lib/python3.10/dist-packages (from python-slugify->kaggle) (1.3)\n",
            "Requirement already satisfied: charset-normalizer<4,>=2 in /usr/local/lib/python3.10/dist-packages (from requests->kaggle) (3.4.0)\n",
            "Requirement already satisfied: idna<4,>=2.5 in /usr/local/lib/python3.10/dist-packages (from requests->kaggle) (3.10)\n"
          ]
        }
      ]
    },
    {
      "cell_type": "code",
      "source": [
        "from google.colab import files\n",
        "files.upload()"
      ],
      "metadata": {
        "id": "xl7MbzWpuZ7Z"
      },
      "execution_count": null,
      "outputs": []
    },
    {
      "cell_type": "code",
      "source": [
        "\n",
        "! mkdir ~/.kaggle"
      ],
      "metadata": {
        "id": "hd7qqAfEu207",
        "colab": {
          "base_uri": "https://localhost:8080/"
        },
        "outputId": "9262ff79-80ef-4a6b-beeb-af999c9fe02c"
      },
      "execution_count": 4,
      "outputs": [
        {
          "output_type": "stream",
          "name": "stdout",
          "text": [
            "mkdir: cannot create directory ‘/root/.kaggle’: File exists\n"
          ]
        }
      ]
    },
    {
      "cell_type": "code",
      "source": [
        "! cp kaggle.json ~/.kaggle/"
      ],
      "metadata": {
        "id": "Em05D5-1vCZc"
      },
      "execution_count": 5,
      "outputs": []
    },
    {
      "cell_type": "code",
      "source": [
        "! chmod 600 ~/.kaggle/kaggle.json"
      ],
      "metadata": {
        "id": "YS3HXkmvvE9r"
      },
      "execution_count": 6,
      "outputs": []
    },
    {
      "cell_type": "code",
      "source": [
        "! kaggle datasets download -d samuelcortinhas/cats-and-dogs-image-classification #importing dataset"
      ],
      "metadata": {
        "colab": {
          "base_uri": "https://localhost:8080/"
        },
        "id": "76HuytaXvdV2",
        "outputId": "96a91046-3d9a-4cc9-815b-e0813d9e410b"
      },
      "execution_count": 7,
      "outputs": [
        {
          "output_type": "stream",
          "name": "stdout",
          "text": [
            "Dataset URL: https://www.kaggle.com/datasets/samuelcortinhas/cats-and-dogs-image-classification\n",
            "License(s): CC0-1.0\n",
            "Downloading cats-and-dogs-image-classification.zip to /content\n",
            " 88% 57.0M/64.4M [00:00<00:00, 83.6MB/s]\n",
            "100% 64.4M/64.4M [00:00<00:00, 84.3MB/s]\n"
          ]
        }
      ]
    },
    {
      "cell_type": "code",
      "source": [
        "!unzip cats-and-dogs-image-classification.zip"
      ],
      "metadata": {
        "colab": {
          "base_uri": "https://localhost:8080/"
        },
        "id": "o8a75q5hv1Bk",
        "outputId": "bebb4f7a-55ba-43d5-8b07-ffe0a1f7bdf2"
      },
      "execution_count": 8,
      "outputs": [
        {
          "output_type": "stream",
          "name": "stdout",
          "text": [
            "Archive:  cats-and-dogs-image-classification.zip\n",
            "  inflating: test/cats/cat_1.jpg     \n",
            "  inflating: test/cats/cat_106.jpg   \n",
            "  inflating: test/cats/cat_109.jpg   \n",
            "  inflating: test/cats/cat_113.jpg   \n",
            "  inflating: test/cats/cat_114.jpg   \n",
            "  inflating: test/cats/cat_116.jpg   \n",
            "  inflating: test/cats/cat_118.jpg   \n",
            "  inflating: test/cats/cat_119.jpg   \n",
            "  inflating: test/cats/cat_124.jpg   \n",
            "  inflating: test/cats/cat_140.jpg   \n",
            "  inflating: test/cats/cat_147.jpg   \n",
            "  inflating: test/cats/cat_156.jpg   \n",
            "  inflating: test/cats/cat_158.jpg   \n",
            "  inflating: test/cats/cat_162.jpg   \n",
            "  inflating: test/cats/cat_18.jpg    \n",
            "  inflating: test/cats/cat_190.jpg   \n",
            "  inflating: test/cats/cat_203.jpg   \n",
            "  inflating: test/cats/cat_223.jpg   \n",
            "  inflating: test/cats/cat_234.jpg   \n",
            "  inflating: test/cats/cat_244.jpg   \n",
            "  inflating: test/cats/cat_251.jpg   \n",
            "  inflating: test/cats/cat_255.jpg   \n",
            "  inflating: test/cats/cat_268.jpg   \n",
            "  inflating: test/cats/cat_279.jpg   \n",
            "  inflating: test/cats/cat_281.jpg   \n",
            "  inflating: test/cats/cat_290.jpg   \n",
            "  inflating: test/cats/cat_306.jpg   \n",
            "  inflating: test/cats/cat_313.jpg   \n",
            "  inflating: test/cats/cat_332.jpg   \n",
            "  inflating: test/cats/cat_341.jpg   \n",
            "  inflating: test/cats/cat_342.jpg   \n",
            "  inflating: test/cats/cat_355.jpg   \n",
            "  inflating: test/cats/cat_358.jpg   \n",
            "  inflating: test/cats/cat_371.jpg   \n",
            "  inflating: test/cats/cat_375.jpg   \n",
            "  inflating: test/cats/cat_384.jpg   \n",
            "  inflating: test/cats/cat_395.jpg   \n",
            "  inflating: test/cats/cat_417.jpg   \n",
            "  inflating: test/cats/cat_418.jpg   \n",
            "  inflating: test/cats/cat_422.jpg   \n",
            "  inflating: test/cats/cat_430.jpg   \n",
            "  inflating: test/cats/cat_433.jpg   \n",
            "  inflating: test/cats/cat_446.jpg   \n",
            "  inflating: test/cats/cat_464.jpg   \n",
            "  inflating: test/cats/cat_468.jpg   \n",
            "  inflating: test/cats/cat_473.jpg   \n",
            "  inflating: test/cats/cat_496.jpg   \n",
            "  inflating: test/cats/cat_5.jpg     \n",
            "  inflating: test/cats/cat_504.jpg   \n",
            "  inflating: test/cats/cat_520.jpg   \n",
            "  inflating: test/cats/cat_523.jpg   \n",
            "  inflating: test/cats/cat_525.jpg   \n",
            "  inflating: test/cats/cat_528.jpg   \n",
            "  inflating: test/cats/cat_538.jpg   \n",
            "  inflating: test/cats/cat_542.jpg   \n",
            "  inflating: test/cats/cat_545.jpg   \n",
            "  inflating: test/cats/cat_551.jpg   \n",
            "  inflating: test/cats/cat_56.jpg    \n",
            "  inflating: test/cats/cat_564.jpg   \n",
            "  inflating: test/cats/cat_574.jpg   \n",
            "  inflating: test/cats/cat_575.jpg   \n",
            "  inflating: test/cats/cat_583.jpg   \n",
            "  inflating: test/cats/cat_585.jpg   \n",
            "  inflating: test/cats/cat_586.jpg   \n",
            "  inflating: test/cats/cat_587.jpg   \n",
            "  inflating: test/cats/cat_595.jpg   \n",
            "  inflating: test/cats/cat_60.jpg    \n",
            "  inflating: test/cats/cat_88.jpg    \n",
            "  inflating: test/cats/cat_94.jpg    \n",
            "  inflating: test/cats/cat_96.jpg    \n",
            "  inflating: test/dogs/dog_114.jpg   \n",
            "  inflating: test/dogs/dog_123.jpg   \n",
            "  inflating: test/dogs/dog_124.jpg   \n",
            "  inflating: test/dogs/dog_130.jpg   \n",
            "  inflating: test/dogs/dog_141.jpg   \n",
            "  inflating: test/dogs/dog_142.jpg   \n",
            "  inflating: test/dogs/dog_147.jpg   \n",
            "  inflating: test/dogs/dog_150.jpg   \n",
            "  inflating: test/dogs/dog_155.jpg   \n",
            "  inflating: test/dogs/dog_159.jpg   \n",
            "  inflating: test/dogs/dog_168.jpg   \n",
            "  inflating: test/dogs/dog_173.jpg   \n",
            "  inflating: test/dogs/dog_177.jpg   \n",
            "  inflating: test/dogs/dog_181.jpg   \n",
            "  inflating: test/dogs/dog_191.jpg   \n",
            "  inflating: test/dogs/dog_194.jpg   \n",
            "  inflating: test/dogs/dog_196.jpg   \n",
            "  inflating: test/dogs/dog_197.jpg   \n",
            "  inflating: test/dogs/dog_211.jpg   \n",
            "  inflating: test/dogs/dog_213.jpg   \n",
            "  inflating: test/dogs/dog_219.jpg   \n",
            "  inflating: test/dogs/dog_227.jpg   \n",
            "  inflating: test/dogs/dog_229.jpg   \n",
            "  inflating: test/dogs/dog_236.jpg   \n",
            "  inflating: test/dogs/dog_237.jpg   \n",
            "  inflating: test/dogs/dog_240.jpg   \n",
            "  inflating: test/dogs/dog_244.jpg   \n",
            "  inflating: test/dogs/dog_258.jpg   \n",
            "  inflating: test/dogs/dog_28.jpg    \n",
            "  inflating: test/dogs/dog_283.jpg   \n",
            "  inflating: test/dogs/dog_302.jpg   \n",
            "  inflating: test/dogs/dog_303.jpg   \n",
            "  inflating: test/dogs/dog_313.jpg   \n",
            "  inflating: test/dogs/dog_327.jpg   \n",
            "  inflating: test/dogs/dog_344.jpg   \n",
            "  inflating: test/dogs/dog_354.jpg   \n",
            "  inflating: test/dogs/dog_355.jpg   \n",
            "  inflating: test/dogs/dog_360.jpg   \n",
            "  inflating: test/dogs/dog_364.jpg   \n",
            "  inflating: test/dogs/dog_369.jpg   \n",
            "  inflating: test/dogs/dog_377.jpg   \n",
            "  inflating: test/dogs/dog_380.jpg   \n",
            "  inflating: test/dogs/dog_398.jpg   \n",
            "  inflating: test/dogs/dog_415.jpg   \n",
            "  inflating: test/dogs/dog_421.jpg   \n",
            "  inflating: test/dogs/dog_43.jpg    \n",
            "  inflating: test/dogs/dog_44.jpg    \n",
            "  inflating: test/dogs/dog_442.jpg   \n",
            "  inflating: test/dogs/dog_443.jpg   \n",
            "  inflating: test/dogs/dog_461.jpg   \n",
            "  inflating: test/dogs/dog_462.jpg   \n",
            "  inflating: test/dogs/dog_464.jpg   \n",
            "  inflating: test/dogs/dog_472.jpg   \n",
            "  inflating: test/dogs/dog_476.jpg   \n",
            "  inflating: test/dogs/dog_482.jpg   \n",
            "  inflating: test/dogs/dog_517.jpg   \n",
            "  inflating: test/dogs/dog_518.jpg   \n",
            "  inflating: test/dogs/dog_519.jpg   \n",
            "  inflating: test/dogs/dog_520.jpg   \n",
            "  inflating: test/dogs/dog_521.jpg   \n",
            "  inflating: test/dogs/dog_522.jpg   \n",
            "  inflating: test/dogs/dog_528.jpg   \n",
            "  inflating: test/dogs/dog_534.jpg   \n",
            "  inflating: test/dogs/dog_536.jpg   \n",
            "  inflating: test/dogs/dog_551.jpg   \n",
            "  inflating: test/dogs/dog_563.jpg   \n",
            "  inflating: test/dogs/dog_59.jpg    \n",
            "  inflating: test/dogs/dog_68.jpg    \n",
            "  inflating: test/dogs/dog_75.jpg    \n",
            "  inflating: test/dogs/dog_89.jpg    \n",
            "  inflating: train/cats/cat_10.jpg   \n",
            "  inflating: train/cats/cat_100.jpg  \n",
            "  inflating: train/cats/cat_101.jpg  \n",
            "  inflating: train/cats/cat_102.jpg  \n",
            "  inflating: train/cats/cat_103.jpg  \n",
            "  inflating: train/cats/cat_104.jpg  \n",
            "  inflating: train/cats/cat_11.jpg   \n",
            "  inflating: train/cats/cat_111.jpg  \n",
            "  inflating: train/cats/cat_12.jpg   \n",
            "  inflating: train/cats/cat_120.jpg  \n",
            "  inflating: train/cats/cat_123.jpg  \n",
            "  inflating: train/cats/cat_129.jpg  \n",
            "  inflating: train/cats/cat_13.jpg   \n",
            "  inflating: train/cats/cat_132.jpg  \n",
            "  inflating: train/cats/cat_133.jpg  \n",
            "  inflating: train/cats/cat_134.jpg  \n",
            "  inflating: train/cats/cat_137.jpg  \n",
            "  inflating: train/cats/cat_138.jpg  \n",
            "  inflating: train/cats/cat_139.jpg  \n",
            "  inflating: train/cats/cat_14.jpg   \n",
            "  inflating: train/cats/cat_141.jpg  \n",
            "  inflating: train/cats/cat_146.jpg  \n",
            "  inflating: train/cats/cat_148.jpg  \n",
            "  inflating: train/cats/cat_149.jpg  \n",
            "  inflating: train/cats/cat_15.jpg   \n",
            "  inflating: train/cats/cat_151.jpg  \n",
            "  inflating: train/cats/cat_152.jpg  \n",
            "  inflating: train/cats/cat_153.jpg  \n",
            "  inflating: train/cats/cat_159.jpg  \n",
            "  inflating: train/cats/cat_16.jpg   \n",
            "  inflating: train/cats/cat_160.jpg  \n",
            "  inflating: train/cats/cat_161.jpg  \n",
            "  inflating: train/cats/cat_163.jpg  \n",
            "  inflating: train/cats/cat_164.jpg  \n",
            "  inflating: train/cats/cat_165.jpg  \n",
            "  inflating: train/cats/cat_168.jpg  \n",
            "  inflating: train/cats/cat_169.jpg  \n",
            "  inflating: train/cats/cat_170.jpg  \n",
            "  inflating: train/cats/cat_172.jpg  \n",
            "  inflating: train/cats/cat_177.jpg  \n",
            "  inflating: train/cats/cat_179.jpg  \n",
            "  inflating: train/cats/cat_180.jpg  \n",
            "  inflating: train/cats/cat_183.jpg  \n",
            "  inflating: train/cats/cat_184.jpg  \n",
            "  inflating: train/cats/cat_189.jpg  \n",
            "  inflating: train/cats/cat_191.jpg  \n",
            "  inflating: train/cats/cat_194.jpg  \n",
            "  inflating: train/cats/cat_195.jpg  \n",
            "  inflating: train/cats/cat_198.jpg  \n",
            "  inflating: train/cats/cat_2.jpg    \n",
            "  inflating: train/cats/cat_200.jpg  \n",
            "  inflating: train/cats/cat_201.jpg  \n",
            "  inflating: train/cats/cat_202.jpg  \n",
            "  inflating: train/cats/cat_207.jpg  \n",
            "  inflating: train/cats/cat_208.jpg  \n",
            "  inflating: train/cats/cat_209.jpg  \n",
            "  inflating: train/cats/cat_21.jpg   \n",
            "  inflating: train/cats/cat_211.jpg  \n",
            "  inflating: train/cats/cat_213.jpg  \n",
            "  inflating: train/cats/cat_214.jpg  \n",
            "  inflating: train/cats/cat_215.jpg  \n",
            "  inflating: train/cats/cat_217.jpg  \n",
            "  inflating: train/cats/cat_218.jpg  \n",
            "  inflating: train/cats/cat_219.jpg  \n",
            "  inflating: train/cats/cat_220.jpg  \n",
            "  inflating: train/cats/cat_221.jpg  \n",
            "  inflating: train/cats/cat_222.jpg  \n",
            "  inflating: train/cats/cat_224.jpg  \n",
            "  inflating: train/cats/cat_225.jpg  \n",
            "  inflating: train/cats/cat_227.jpg  \n",
            "  inflating: train/cats/cat_228.jpg  \n",
            "  inflating: train/cats/cat_229.jpg  \n",
            "  inflating: train/cats/cat_230.jpg  \n",
            "  inflating: train/cats/cat_232.jpg  \n",
            "  inflating: train/cats/cat_235.jpg  \n",
            "  inflating: train/cats/cat_238.jpg  \n",
            "  inflating: train/cats/cat_24.jpg   \n",
            "  inflating: train/cats/cat_240.jpg  \n",
            "  inflating: train/cats/cat_243.jpg  \n",
            "  inflating: train/cats/cat_246.jpg  \n",
            "  inflating: train/cats/cat_247.jpg  \n",
            "  inflating: train/cats/cat_248.jpg  \n",
            "  inflating: train/cats/cat_253.jpg  \n",
            "  inflating: train/cats/cat_257.jpg  \n",
            "  inflating: train/cats/cat_26.jpg   \n",
            "  inflating: train/cats/cat_260.jpg  \n",
            "  inflating: train/cats/cat_261.jpg  \n",
            "  inflating: train/cats/cat_263.jpg  \n",
            "  inflating: train/cats/cat_265.jpg  \n",
            "  inflating: train/cats/cat_269.jpg  \n",
            "  inflating: train/cats/cat_27.jpg   \n",
            "  inflating: train/cats/cat_270.jpg  \n",
            "  inflating: train/cats/cat_271.jpg  \n",
            "  inflating: train/cats/cat_273.jpg  \n",
            "  inflating: train/cats/cat_274.jpg  \n",
            "  inflating: train/cats/cat_275.jpg  \n",
            "  inflating: train/cats/cat_276.jpg  \n",
            "  inflating: train/cats/cat_280.jpg  \n",
            "  inflating: train/cats/cat_284.jpg  \n",
            "  inflating: train/cats/cat_285.jpg  \n",
            "  inflating: train/cats/cat_289.jpg  \n",
            "  inflating: train/cats/cat_292.jpg  \n",
            "  inflating: train/cats/cat_293.jpg  \n",
            "  inflating: train/cats/cat_297.jpg  \n",
            "  inflating: train/cats/cat_298.jpg  \n",
            "  inflating: train/cats/cat_3.jpg    \n",
            "  inflating: train/cats/cat_303.jpg  \n",
            "  inflating: train/cats/cat_304.jpg  \n",
            "  inflating: train/cats/cat_307.jpg  \n",
            "  inflating: train/cats/cat_310.jpg  \n",
            "  inflating: train/cats/cat_311.jpg  \n",
            "  inflating: train/cats/cat_316.jpg  \n",
            "  inflating: train/cats/cat_317.jpg  \n",
            "  inflating: train/cats/cat_318.jpg  \n",
            "  inflating: train/cats/cat_320.jpg  \n",
            "  inflating: train/cats/cat_321.jpg  \n",
            "  inflating: train/cats/cat_325.jpg  \n",
            "  inflating: train/cats/cat_327.jpg  \n",
            "  inflating: train/cats/cat_329.jpg  \n",
            "  inflating: train/cats/cat_33.jpg   \n",
            "  inflating: train/cats/cat_330.jpg  \n",
            "  inflating: train/cats/cat_331.jpg  \n",
            "  inflating: train/cats/cat_333.jpg  \n",
            "  inflating: train/cats/cat_336.jpg  \n",
            "  inflating: train/cats/cat_34.jpg   \n",
            "  inflating: train/cats/cat_343.jpg  \n",
            "  inflating: train/cats/cat_344.jpg  \n",
            "  inflating: train/cats/cat_345.jpg  \n",
            "  inflating: train/cats/cat_348.jpg  \n",
            "  inflating: train/cats/cat_35.jpg   \n",
            "  inflating: train/cats/cat_350.jpg  \n",
            "  inflating: train/cats/cat_351.jpg  \n",
            "  inflating: train/cats/cat_352.jpg  \n",
            "  inflating: train/cats/cat_359.jpg  \n",
            "  inflating: train/cats/cat_361.jpg  \n",
            "  inflating: train/cats/cat_362.jpg  \n",
            "  inflating: train/cats/cat_363.jpg  \n",
            "  inflating: train/cats/cat_367.jpg  \n",
            "  inflating: train/cats/cat_369.jpg  \n",
            "  inflating: train/cats/cat_37.jpg   \n",
            "  inflating: train/cats/cat_370.jpg  \n",
            "  inflating: train/cats/cat_372.jpg  \n",
            "  inflating: train/cats/cat_373.jpg  \n",
            "  inflating: train/cats/cat_376.jpg  \n",
            "  inflating: train/cats/cat_377.jpg  \n",
            "  inflating: train/cats/cat_38.jpg   \n",
            "  inflating: train/cats/cat_380.jpg  \n",
            "  inflating: train/cats/cat_381.jpg  \n",
            "  inflating: train/cats/cat_385.jpg  \n",
            "  inflating: train/cats/cat_386.jpg  \n",
            "  inflating: train/cats/cat_387.jpg  \n",
            "  inflating: train/cats/cat_388.jpg  \n",
            "  inflating: train/cats/cat_39.jpg   \n",
            "  inflating: train/cats/cat_391.jpg  \n",
            "  inflating: train/cats/cat_393.jpg  \n",
            "  inflating: train/cats/cat_396.jpg  \n",
            "  inflating: train/cats/cat_397.jpg  \n",
            "  inflating: train/cats/cat_399.jpg  \n",
            "  inflating: train/cats/cat_4.jpg    \n",
            "  inflating: train/cats/cat_400.jpg  \n",
            "  inflating: train/cats/cat_402.jpg  \n",
            "  inflating: train/cats/cat_403.jpg  \n",
            "  inflating: train/cats/cat_405.jpg  \n",
            "  inflating: train/cats/cat_407.jpg  \n",
            "  inflating: train/cats/cat_408.jpg  \n",
            "  inflating: train/cats/cat_413.jpg  \n",
            "  inflating: train/cats/cat_414.jpg  \n",
            "  inflating: train/cats/cat_416.jpg  \n",
            "  inflating: train/cats/cat_419.jpg  \n",
            "  inflating: train/cats/cat_42.jpg   \n",
            "  inflating: train/cats/cat_420.jpg  \n",
            "  inflating: train/cats/cat_423.jpg  \n",
            "  inflating: train/cats/cat_426.jpg  \n",
            "  inflating: train/cats/cat_427.jpg  \n",
            "  inflating: train/cats/cat_428.jpg  \n",
            "  inflating: train/cats/cat_429.jpg  \n",
            "  inflating: train/cats/cat_43.jpg   \n",
            "  inflating: train/cats/cat_434.jpg  \n",
            "  inflating: train/cats/cat_435.jpg  \n",
            "  inflating: train/cats/cat_438.jpg  \n",
            "  inflating: train/cats/cat_440.jpg  \n",
            "  inflating: train/cats/cat_443.jpg  \n",
            "  inflating: train/cats/cat_445.jpg  \n",
            "  inflating: train/cats/cat_450.jpg  \n",
            "  inflating: train/cats/cat_452.jpg  \n",
            "  inflating: train/cats/cat_453.jpg  \n",
            "  inflating: train/cats/cat_455.jpg  \n",
            "  inflating: train/cats/cat_456.jpg  \n",
            "  inflating: train/cats/cat_46.jpg   \n",
            "  inflating: train/cats/cat_461.jpg  \n",
            "  inflating: train/cats/cat_463.jpg  \n",
            "  inflating: train/cats/cat_465.jpg  \n",
            "  inflating: train/cats/cat_466.jpg  \n",
            "  inflating: train/cats/cat_467.jpg  \n",
            "  inflating: train/cats/cat_469.jpg  \n",
            "  inflating: train/cats/cat_474.jpg  \n",
            "  inflating: train/cats/cat_482.jpg  \n",
            "  inflating: train/cats/cat_483.jpg  \n",
            "  inflating: train/cats/cat_485.jpg  \n",
            "  inflating: train/cats/cat_487.jpg  \n",
            "  inflating: train/cats/cat_489.jpg  \n",
            "  inflating: train/cats/cat_49.jpg   \n",
            "  inflating: train/cats/cat_490.jpg  \n",
            "  inflating: train/cats/cat_492.jpg  \n",
            "  inflating: train/cats/cat_493.jpg  \n",
            "  inflating: train/cats/cat_494.jpg  \n",
            "  inflating: train/cats/cat_495.jpg  \n",
            "  inflating: train/cats/cat_497.jpg  \n",
            "  inflating: train/cats/cat_498.jpg  \n",
            "  inflating: train/cats/cat_499.jpg  \n",
            "  inflating: train/cats/cat_50.jpg   \n",
            "  inflating: train/cats/cat_500.jpg  \n",
            "  inflating: train/cats/cat_505.jpg  \n",
            "  inflating: train/cats/cat_506.jpg  \n",
            "  inflating: train/cats/cat_508.jpg  \n",
            "  inflating: train/cats/cat_510.jpg  \n",
            "  inflating: train/cats/cat_511.jpg  \n",
            "  inflating: train/cats/cat_518.jpg  \n",
            "  inflating: train/cats/cat_519.jpg  \n",
            "  inflating: train/cats/cat_52.jpg   \n",
            "  inflating: train/cats/cat_524.jpg  \n",
            "  inflating: train/cats/cat_526.jpg  \n",
            "  inflating: train/cats/cat_53.jpg   \n",
            "  inflating: train/cats/cat_531.jpg  \n",
            "  inflating: train/cats/cat_532.jpg  \n",
            "  inflating: train/cats/cat_533.jpg  \n",
            "  inflating: train/cats/cat_535.jpg  \n",
            "  inflating: train/cats/cat_536.jpg  \n",
            "  inflating: train/cats/cat_54.jpg   \n",
            "  inflating: train/cats/cat_540.jpg  \n",
            "  inflating: train/cats/cat_543.jpg  \n",
            "  inflating: train/cats/cat_544.jpg  \n",
            "  inflating: train/cats/cat_546.jpg  \n",
            "  inflating: train/cats/cat_547.jpg  \n",
            "  inflating: train/cats/cat_548.jpg  \n",
            "  inflating: train/cats/cat_549.jpg  \n",
            "  inflating: train/cats/cat_553.jpg  \n",
            "  inflating: train/cats/cat_556.jpg  \n",
            "  inflating: train/cats/cat_557.jpg  \n",
            "  inflating: train/cats/cat_558.jpg  \n",
            "  inflating: train/cats/cat_559.jpg  \n",
            "  inflating: train/cats/cat_560.jpg  \n",
            "  inflating: train/cats/cat_565.jpg  \n",
            "  inflating: train/cats/cat_567.jpg  \n",
            "  inflating: train/cats/cat_569.jpg  \n",
            "  inflating: train/cats/cat_570.jpg  \n",
            "  inflating: train/cats/cat_573.jpg  \n",
            "  inflating: train/cats/cat_577.jpg  \n",
            "  inflating: train/cats/cat_58.jpg   \n",
            "  inflating: train/cats/cat_580.jpg  \n",
            "  inflating: train/cats/cat_581.jpg  \n",
            "  inflating: train/cats/cat_589.jpg  \n",
            "  inflating: train/cats/cat_59.jpg   \n",
            "  inflating: train/cats/cat_590.jpg  \n",
            "  inflating: train/cats/cat_591.jpg  \n",
            "  inflating: train/cats/cat_592.jpg  \n",
            "  inflating: train/cats/cat_6.jpg    \n",
            "  inflating: train/cats/cat_601.jpg  \n",
            "  inflating: train/cats/cat_602.jpg  \n",
            "  inflating: train/cats/cat_604.jpg  \n",
            "  inflating: train/cats/cat_605.jpg  \n",
            "  inflating: train/cats/cat_61.jpg   \n",
            "  inflating: train/cats/cat_64.jpg   \n",
            "  inflating: train/cats/cat_66.jpg   \n",
            "  inflating: train/cats/cat_67.jpg   \n",
            "  inflating: train/cats/cat_69.jpg   \n",
            "  inflating: train/cats/cat_70.jpg   \n",
            "  inflating: train/cats/cat_74.jpg   \n",
            "  inflating: train/cats/cat_75.jpg   \n",
            "  inflating: train/cats/cat_77.jpg   \n",
            "  inflating: train/cats/cat_78.jpg   \n",
            "  inflating: train/cats/cat_80.jpg   \n",
            "  inflating: train/cats/cat_84.jpg   \n",
            "  inflating: train/cats/cat_87.jpg   \n",
            "  inflating: train/cats/cat_9.jpg    \n",
            "  inflating: train/cats/cat_93.jpg   \n",
            "  inflating: train/cats/cat_95.jpg   \n",
            "  inflating: train/cats/cat_97.jpg   \n",
            "  inflating: train/cats/cat_98.jpg   \n",
            "  inflating: train/dogs/dog_0.jpg    \n",
            "  inflating: train/dogs/dog_10.jpg   \n",
            "  inflating: train/dogs/dog_100.jpg  \n",
            "  inflating: train/dogs/dog_102.jpg  \n",
            "  inflating: train/dogs/dog_103.jpg  \n",
            "  inflating: train/dogs/dog_106.jpg  \n",
            "  inflating: train/dogs/dog_109.jpg  \n",
            "  inflating: train/dogs/dog_11.jpg   \n",
            "  inflating: train/dogs/dog_110.jpg  \n",
            "  inflating: train/dogs/dog_113.jpg  \n",
            "  inflating: train/dogs/dog_116.jpg  \n",
            "  inflating: train/dogs/dog_120.jpg  \n",
            "  inflating: train/dogs/dog_122.jpg  \n",
            "  inflating: train/dogs/dog_125.jpg  \n",
            "  inflating: train/dogs/dog_128.jpg  \n",
            "  inflating: train/dogs/dog_129.jpg  \n",
            "  inflating: train/dogs/dog_13.jpg   \n",
            "  inflating: train/dogs/dog_133.jpg  \n",
            "  inflating: train/dogs/dog_136.jpg  \n",
            "  inflating: train/dogs/dog_138.jpg  \n",
            "  inflating: train/dogs/dog_139.jpg  \n",
            "  inflating: train/dogs/dog_140.jpg  \n",
            "  inflating: train/dogs/dog_144.jpg  \n",
            "  inflating: train/dogs/dog_145.jpg  \n",
            "  inflating: train/dogs/dog_15.jpg   \n",
            "  inflating: train/dogs/dog_151.jpg  \n",
            "  inflating: train/dogs/dog_152.jpg  \n",
            "  inflating: train/dogs/dog_154.jpg  \n",
            "  inflating: train/dogs/dog_156.jpg  \n",
            "  inflating: train/dogs/dog_162.jpg  \n",
            "  inflating: train/dogs/dog_164.jpg  \n",
            "  inflating: train/dogs/dog_165.jpg  \n",
            "  inflating: train/dogs/dog_167.jpg  \n",
            "  inflating: train/dogs/dog_171.jpg  \n",
            "  inflating: train/dogs/dog_175.jpg  \n",
            "  inflating: train/dogs/dog_178.jpg  \n",
            "  inflating: train/dogs/dog_182.jpg  \n",
            "  inflating: train/dogs/dog_186.jpg  \n",
            "  inflating: train/dogs/dog_188.jpg  \n",
            "  inflating: train/dogs/dog_192.jpg  \n",
            "  inflating: train/dogs/dog_193.jpg  \n",
            "  inflating: train/dogs/dog_195.jpg  \n",
            "  inflating: train/dogs/dog_199.jpg  \n",
            "  inflating: train/dogs/dog_200.jpg  \n",
            "  inflating: train/dogs/dog_202.jpg  \n",
            "  inflating: train/dogs/dog_203.jpg  \n",
            "  inflating: train/dogs/dog_204.jpg  \n",
            "  inflating: train/dogs/dog_205.jpg  \n",
            "  inflating: train/dogs/dog_206.jpg  \n",
            "  inflating: train/dogs/dog_207.jpg  \n",
            "  inflating: train/dogs/dog_208.jpg  \n",
            "  inflating: train/dogs/dog_209.jpg  \n",
            "  inflating: train/dogs/dog_21.jpg   \n",
            "  inflating: train/dogs/dog_212.jpg  \n",
            "  inflating: train/dogs/dog_214.jpg  \n",
            "  inflating: train/dogs/dog_216.jpg  \n",
            "  inflating: train/dogs/dog_217.jpg  \n",
            "  inflating: train/dogs/dog_218.jpg  \n",
            "  inflating: train/dogs/dog_22.jpg   \n",
            "  inflating: train/dogs/dog_220.jpg  \n",
            "  inflating: train/dogs/dog_221.jpg  \n",
            "  inflating: train/dogs/dog_224.jpg  \n",
            "  inflating: train/dogs/dog_226.jpg  \n",
            "  inflating: train/dogs/dog_23.jpg   \n",
            "  inflating: train/dogs/dog_230.jpg  \n",
            "  inflating: train/dogs/dog_231.jpg  \n",
            "  inflating: train/dogs/dog_232.jpg  \n",
            "  inflating: train/dogs/dog_234.jpg  \n",
            "  inflating: train/dogs/dog_238.jpg  \n",
            "  inflating: train/dogs/dog_239.jpg  \n",
            "  inflating: train/dogs/dog_241.jpg  \n",
            "  inflating: train/dogs/dog_243.jpg  \n",
            "  inflating: train/dogs/dog_247.jpg  \n",
            "  inflating: train/dogs/dog_249.jpg  \n",
            "  inflating: train/dogs/dog_251.jpg  \n",
            "  inflating: train/dogs/dog_253.jpg  \n",
            "  inflating: train/dogs/dog_256.jpg  \n",
            "  inflating: train/dogs/dog_259.jpg  \n",
            "  inflating: train/dogs/dog_26.jpg   \n",
            "  inflating: train/dogs/dog_260.jpg  \n",
            "  inflating: train/dogs/dog_261.jpg  \n",
            "  inflating: train/dogs/dog_262.jpg  \n",
            "  inflating: train/dogs/dog_266.jpg  \n",
            "  inflating: train/dogs/dog_267.jpg  \n",
            "  inflating: train/dogs/dog_268.jpg  \n",
            "  inflating: train/dogs/dog_269.jpg  \n",
            "  inflating: train/dogs/dog_270.jpg  \n",
            "  inflating: train/dogs/dog_272.jpg  \n",
            "  inflating: train/dogs/dog_273.jpg  \n",
            "  inflating: train/dogs/dog_277.jpg  \n",
            "  inflating: train/dogs/dog_281.jpg  \n",
            "  inflating: train/dogs/dog_286.jpg  \n",
            "  inflating: train/dogs/dog_287.jpg  \n",
            "  inflating: train/dogs/dog_29.jpg   \n",
            "  inflating: train/dogs/dog_290.jpg  \n",
            "  inflating: train/dogs/dog_291.jpg  \n",
            "  inflating: train/dogs/dog_292.jpg  \n",
            "  inflating: train/dogs/dog_293.jpg  \n",
            "  inflating: train/dogs/dog_294.jpg  \n",
            "  inflating: train/dogs/dog_295.jpg  \n",
            "  inflating: train/dogs/dog_296.jpg  \n",
            "  inflating: train/dogs/dog_298.jpg  \n",
            "  inflating: train/dogs/dog_299.jpg  \n",
            "  inflating: train/dogs/dog_3.jpg    \n",
            "  inflating: train/dogs/dog_30.jpg   \n",
            "  inflating: train/dogs/dog_301.jpg  \n",
            "  inflating: train/dogs/dog_305.jpg  \n",
            "  inflating: train/dogs/dog_306.jpg  \n",
            "  inflating: train/dogs/dog_31.jpg   \n",
            "  inflating: train/dogs/dog_315.jpg  \n",
            "  inflating: train/dogs/dog_317.jpg  \n",
            "  inflating: train/dogs/dog_318.jpg  \n",
            "  inflating: train/dogs/dog_32.jpg   \n",
            "  inflating: train/dogs/dog_320.jpg  \n",
            "  inflating: train/dogs/dog_321.jpg  \n",
            "  inflating: train/dogs/dog_322.jpg  \n",
            "  inflating: train/dogs/dog_323.jpg  \n",
            "  inflating: train/dogs/dog_324.jpg  \n",
            "  inflating: train/dogs/dog_325.jpg  \n",
            "  inflating: train/dogs/dog_33.jpg   \n",
            "  inflating: train/dogs/dog_331.jpg  \n",
            "  inflating: train/dogs/dog_332.jpg  \n",
            "  inflating: train/dogs/dog_333.jpg  \n",
            "  inflating: train/dogs/dog_334.jpg  \n",
            "  inflating: train/dogs/dog_335.jpg  \n",
            "  inflating: train/dogs/dog_337.jpg  \n",
            "  inflating: train/dogs/dog_338.jpg  \n",
            "  inflating: train/dogs/dog_341.jpg  \n",
            "  inflating: train/dogs/dog_342.jpg  \n",
            "  inflating: train/dogs/dog_343.jpg  \n",
            "  inflating: train/dogs/dog_345.jpg  \n",
            "  inflating: train/dogs/dog_347.jpg  \n",
            "  inflating: train/dogs/dog_349.jpg  \n",
            "  inflating: train/dogs/dog_35.jpg   \n",
            "  inflating: train/dogs/dog_350.jpg  \n",
            "  inflating: train/dogs/dog_351.jpg  \n",
            "  inflating: train/dogs/dog_358.jpg  \n",
            "  inflating: train/dogs/dog_359.jpg  \n",
            "  inflating: train/dogs/dog_361.jpg  \n",
            "  inflating: train/dogs/dog_363.jpg  \n",
            "  inflating: train/dogs/dog_365.jpg  \n",
            "  inflating: train/dogs/dog_367.jpg  \n",
            "  inflating: train/dogs/dog_368.jpg  \n",
            "  inflating: train/dogs/dog_37.jpg   \n",
            "  inflating: train/dogs/dog_371.jpg  \n",
            "  inflating: train/dogs/dog_375.jpg  \n",
            "  inflating: train/dogs/dog_376.jpg  \n",
            "  inflating: train/dogs/dog_378.jpg  \n",
            "  inflating: train/dogs/dog_381.jpg  \n",
            "  inflating: train/dogs/dog_389.jpg  \n",
            "  inflating: train/dogs/dog_39.jpg   \n",
            "  inflating: train/dogs/dog_391.jpg  \n",
            "  inflating: train/dogs/dog_392.jpg  \n",
            "  inflating: train/dogs/dog_393.jpg  \n",
            "  inflating: train/dogs/dog_4.jpg    \n",
            "  inflating: train/dogs/dog_401.jpg  \n",
            "  inflating: train/dogs/dog_402.jpg  \n",
            "  inflating: train/dogs/dog_403.jpg  \n",
            "  inflating: train/dogs/dog_404.jpg  \n",
            "  inflating: train/dogs/dog_405.jpg  \n",
            "  inflating: train/dogs/dog_407.jpg  \n",
            "  inflating: train/dogs/dog_408.jpg  \n",
            "  inflating: train/dogs/dog_409.jpg  \n",
            "  inflating: train/dogs/dog_412.jpg  \n",
            "  inflating: train/dogs/dog_414.jpg  \n",
            "  inflating: train/dogs/dog_417.jpg  \n",
            "  inflating: train/dogs/dog_418.jpg  \n",
            "  inflating: train/dogs/dog_419.jpg  \n",
            "  inflating: train/dogs/dog_423.jpg  \n",
            "  inflating: train/dogs/dog_427.jpg  \n",
            "  inflating: train/dogs/dog_428.jpg  \n",
            "  inflating: train/dogs/dog_429.jpg  \n",
            "  inflating: train/dogs/dog_432.jpg  \n",
            "  inflating: train/dogs/dog_433.jpg  \n",
            "  inflating: train/dogs/dog_435.jpg  \n",
            "  inflating: train/dogs/dog_436.jpg  \n",
            "  inflating: train/dogs/dog_437.jpg  \n",
            "  inflating: train/dogs/dog_438.jpg  \n",
            "  inflating: train/dogs/dog_440.jpg  \n",
            "  inflating: train/dogs/dog_441.jpg  \n",
            "  inflating: train/dogs/dog_444.jpg  \n",
            "  inflating: train/dogs/dog_445.jpg  \n",
            "  inflating: train/dogs/dog_446.jpg  \n",
            "  inflating: train/dogs/dog_447.jpg  \n",
            "  inflating: train/dogs/dog_448.jpg  \n",
            "  inflating: train/dogs/dog_45.jpg   \n",
            "  inflating: train/dogs/dog_450.jpg  \n",
            "  inflating: train/dogs/dog_451.jpg  \n",
            "  inflating: train/dogs/dog_452.jpg  \n",
            "  inflating: train/dogs/dog_458.jpg  \n",
            "  inflating: train/dogs/dog_466.jpg  \n",
            "  inflating: train/dogs/dog_468.jpg  \n",
            "  inflating: train/dogs/dog_47.jpg   \n",
            "  inflating: train/dogs/dog_471.jpg  \n",
            "  inflating: train/dogs/dog_473.jpg  \n",
            "  inflating: train/dogs/dog_474.jpg  \n",
            "  inflating: train/dogs/dog_475.jpg  \n",
            "  inflating: train/dogs/dog_478.jpg  \n",
            "  inflating: train/dogs/dog_479.jpg  \n",
            "  inflating: train/dogs/dog_480.jpg  \n",
            "  inflating: train/dogs/dog_483.jpg  \n",
            "  inflating: train/dogs/dog_484.jpg  \n",
            "  inflating: train/dogs/dog_485.jpg  \n",
            "  inflating: train/dogs/dog_487.jpg  \n",
            "  inflating: train/dogs/dog_489.jpg  \n",
            "  inflating: train/dogs/dog_490.jpg  \n",
            "  inflating: train/dogs/dog_492.jpg  \n",
            "  inflating: train/dogs/dog_494.jpg  \n",
            "  inflating: train/dogs/dog_496.jpg  \n",
            "  inflating: train/dogs/dog_50.jpg   \n",
            "  inflating: train/dogs/dog_501.jpg  \n",
            "  inflating: train/dogs/dog_502.jpg  \n",
            "  inflating: train/dogs/dog_504.jpg  \n",
            "  inflating: train/dogs/dog_505.jpg  \n",
            "  inflating: train/dogs/dog_509.jpg  \n",
            "  inflating: train/dogs/dog_51.jpg   \n",
            "  inflating: train/dogs/dog_512.jpg  \n",
            "  inflating: train/dogs/dog_513.jpg  \n",
            "  inflating: train/dogs/dog_514.jpg  \n",
            "  inflating: train/dogs/dog_523.jpg  \n",
            "  inflating: train/dogs/dog_525.jpg  \n",
            "  inflating: train/dogs/dog_529.jpg  \n",
            "  inflating: train/dogs/dog_532.jpg  \n",
            "  inflating: train/dogs/dog_533.jpg  \n",
            "  inflating: train/dogs/dog_535.jpg  \n",
            "  inflating: train/dogs/dog_54.jpg   \n",
            "  inflating: train/dogs/dog_540.jpg  \n",
            "  inflating: train/dogs/dog_541.jpg  \n",
            "  inflating: train/dogs/dog_543.jpg  \n",
            "  inflating: train/dogs/dog_545.jpg  \n",
            "  inflating: train/dogs/dog_546.jpg  \n",
            "  inflating: train/dogs/dog_549.jpg  \n",
            "  inflating: train/dogs/dog_550.jpg  \n",
            "  inflating: train/dogs/dog_552.jpg  \n",
            "  inflating: train/dogs/dog_553.jpg  \n",
            "  inflating: train/dogs/dog_554.jpg  \n",
            "  inflating: train/dogs/dog_556.jpg  \n",
            "  inflating: train/dogs/dog_558.jpg  \n",
            "  inflating: train/dogs/dog_559.jpg  \n",
            "  inflating: train/dogs/dog_56.jpg   \n",
            "  inflating: train/dogs/dog_560.jpg  \n",
            "  inflating: train/dogs/dog_564.jpg  \n",
            "  inflating: train/dogs/dog_566.jpg  \n",
            "  inflating: train/dogs/dog_57.jpg   \n",
            "  inflating: train/dogs/dog_570.jpg  \n",
            "  inflating: train/dogs/dog_571.jpg  \n",
            "  inflating: train/dogs/dog_572.jpg  \n",
            "  inflating: train/dogs/dog_576.jpg  \n",
            "  inflating: train/dogs/dog_579.jpg  \n",
            "  inflating: train/dogs/dog_580.jpg  \n",
            "  inflating: train/dogs/dog_582.jpg  \n",
            "  inflating: train/dogs/dog_583.jpg  \n",
            "  inflating: train/dogs/dog_589.jpg  \n",
            "  inflating: train/dogs/dog_591.jpg  \n",
            "  inflating: train/dogs/dog_596.jpg  \n",
            "  inflating: train/dogs/dog_62.jpg   \n",
            "  inflating: train/dogs/dog_67.jpg   \n",
            "  inflating: train/dogs/dog_69.jpg   \n",
            "  inflating: train/dogs/dog_7.jpg    \n",
            "  inflating: train/dogs/dog_70.jpg   \n",
            "  inflating: train/dogs/dog_72.jpg   \n",
            "  inflating: train/dogs/dog_74.jpg   \n",
            "  inflating: train/dogs/dog_76.jpg   \n",
            "  inflating: train/dogs/dog_77.jpg   \n",
            "  inflating: train/dogs/dog_78.jpg   \n",
            "  inflating: train/dogs/dog_8.jpg    \n",
            "  inflating: train/dogs/dog_80.jpg   \n",
            "  inflating: train/dogs/dog_82.jpg   \n",
            "  inflating: train/dogs/dog_84.jpg   \n",
            "  inflating: train/dogs/dog_85.jpg   \n",
            "  inflating: train/dogs/dog_86.jpg   \n",
            "  inflating: train/dogs/dog_9.jpg    \n",
            "  inflating: train/dogs/dog_90.jpg   \n",
            "  inflating: train/dogs/dog_92.jpg   \n",
            "  inflating: train/dogs/dog_93.jpg   \n",
            "  inflating: train/dogs/dog_97.jpg   \n",
            "  inflating: train/dogs/dog_98.jpg   \n",
            "  inflating: train/dogs/dog_99.jpg   \n"
          ]
        }
      ]
    },
    {
      "cell_type": "code",
      "source": [
        "!pip install keras"
      ],
      "metadata": {
        "colab": {
          "base_uri": "https://localhost:8080/"
        },
        "id": "UK4BHD3wL45t",
        "outputId": "a939bb8e-be33-4e4e-d421-3be165d44127"
      },
      "execution_count": 10,
      "outputs": [
        {
          "output_type": "stream",
          "name": "stdout",
          "text": [
            "Requirement already satisfied: keras in /usr/local/lib/python3.10/dist-packages (3.5.0)\n",
            "Requirement already satisfied: absl-py in /usr/local/lib/python3.10/dist-packages (from keras) (1.4.0)\n",
            "Requirement already satisfied: numpy in /usr/local/lib/python3.10/dist-packages (from keras) (1.26.4)\n",
            "Requirement already satisfied: rich in /usr/local/lib/python3.10/dist-packages (from keras) (13.9.4)\n",
            "Requirement already satisfied: namex in /usr/local/lib/python3.10/dist-packages (from keras) (0.0.8)\n",
            "Requirement already satisfied: h5py in /usr/local/lib/python3.10/dist-packages (from keras) (3.12.1)\n",
            "Requirement already satisfied: optree in /usr/local/lib/python3.10/dist-packages (from keras) (0.13.1)\n",
            "Requirement already satisfied: ml-dtypes in /usr/local/lib/python3.10/dist-packages (from keras) (0.4.1)\n",
            "Requirement already satisfied: packaging in /usr/local/lib/python3.10/dist-packages (from keras) (24.2)\n",
            "Requirement already satisfied: typing-extensions>=4.5.0 in /usr/local/lib/python3.10/dist-packages (from optree->keras) (4.12.2)\n",
            "Requirement already satisfied: markdown-it-py>=2.2.0 in /usr/local/lib/python3.10/dist-packages (from rich->keras) (3.0.0)\n",
            "Requirement already satisfied: pygments<3.0.0,>=2.13.0 in /usr/local/lib/python3.10/dist-packages (from rich->keras) (2.18.0)\n",
            "Requirement already satisfied: mdurl~=0.1 in /usr/local/lib/python3.10/dist-packages (from markdown-it-py>=2.2.0->rich->keras) (0.1.2)\n"
          ]
        }
      ]
    },
    {
      "cell_type": "code",
      "source": [
        "!pip install tensorflow\n",
        "from tensorflow.keras.preprocessing.image import ImageDataGenerator"
      ],
      "metadata": {
        "colab": {
          "base_uri": "https://localhost:8080/"
        },
        "id": "RXSy7AMjPPly",
        "outputId": "43c3169d-88dd-47c2-cde1-4842f583f4fd"
      },
      "execution_count": 11,
      "outputs": [
        {
          "output_type": "stream",
          "name": "stdout",
          "text": [
            "Requirement already satisfied: tensorflow in /usr/local/lib/python3.10/dist-packages (2.17.1)\n",
            "Requirement already satisfied: absl-py>=1.0.0 in /usr/local/lib/python3.10/dist-packages (from tensorflow) (1.4.0)\n",
            "Requirement already satisfied: astunparse>=1.6.0 in /usr/local/lib/python3.10/dist-packages (from tensorflow) (1.6.3)\n",
            "Requirement already satisfied: flatbuffers>=24.3.25 in /usr/local/lib/python3.10/dist-packages (from tensorflow) (24.3.25)\n",
            "Requirement already satisfied: gast!=0.5.0,!=0.5.1,!=0.5.2,>=0.2.1 in /usr/local/lib/python3.10/dist-packages (from tensorflow) (0.6.0)\n",
            "Requirement already satisfied: google-pasta>=0.1.1 in /usr/local/lib/python3.10/dist-packages (from tensorflow) (0.2.0)\n",
            "Requirement already satisfied: h5py>=3.10.0 in /usr/local/lib/python3.10/dist-packages (from tensorflow) (3.12.1)\n",
            "Requirement already satisfied: libclang>=13.0.0 in /usr/local/lib/python3.10/dist-packages (from tensorflow) (18.1.1)\n",
            "Requirement already satisfied: ml-dtypes<0.5.0,>=0.3.1 in /usr/local/lib/python3.10/dist-packages (from tensorflow) (0.4.1)\n",
            "Requirement already satisfied: opt-einsum>=2.3.2 in /usr/local/lib/python3.10/dist-packages (from tensorflow) (3.4.0)\n",
            "Requirement already satisfied: packaging in /usr/local/lib/python3.10/dist-packages (from tensorflow) (24.2)\n",
            "Requirement already satisfied: protobuf!=4.21.0,!=4.21.1,!=4.21.2,!=4.21.3,!=4.21.4,!=4.21.5,<5.0.0dev,>=3.20.3 in /usr/local/lib/python3.10/dist-packages (from tensorflow) (4.25.5)\n",
            "Requirement already satisfied: requests<3,>=2.21.0 in /usr/local/lib/python3.10/dist-packages (from tensorflow) (2.32.3)\n",
            "Requirement already satisfied: setuptools in /usr/local/lib/python3.10/dist-packages (from tensorflow) (75.1.0)\n",
            "Requirement already satisfied: six>=1.12.0 in /usr/local/lib/python3.10/dist-packages (from tensorflow) (1.16.0)\n",
            "Requirement already satisfied: termcolor>=1.1.0 in /usr/local/lib/python3.10/dist-packages (from tensorflow) (2.5.0)\n",
            "Requirement already satisfied: typing-extensions>=3.6.6 in /usr/local/lib/python3.10/dist-packages (from tensorflow) (4.12.2)\n",
            "Requirement already satisfied: wrapt>=1.11.0 in /usr/local/lib/python3.10/dist-packages (from tensorflow) (1.16.0)\n",
            "Requirement already satisfied: grpcio<2.0,>=1.24.3 in /usr/local/lib/python3.10/dist-packages (from tensorflow) (1.68.0)\n",
            "Requirement already satisfied: tensorboard<2.18,>=2.17 in /usr/local/lib/python3.10/dist-packages (from tensorflow) (2.17.1)\n",
            "Requirement already satisfied: keras>=3.2.0 in /usr/local/lib/python3.10/dist-packages (from tensorflow) (3.5.0)\n",
            "Requirement already satisfied: tensorflow-io-gcs-filesystem>=0.23.1 in /usr/local/lib/python3.10/dist-packages (from tensorflow) (0.37.1)\n",
            "Requirement already satisfied: numpy<2.0.0,>=1.23.5 in /usr/local/lib/python3.10/dist-packages (from tensorflow) (1.26.4)\n",
            "Requirement already satisfied: wheel<1.0,>=0.23.0 in /usr/local/lib/python3.10/dist-packages (from astunparse>=1.6.0->tensorflow) (0.45.0)\n",
            "Requirement already satisfied: rich in /usr/local/lib/python3.10/dist-packages (from keras>=3.2.0->tensorflow) (13.9.4)\n",
            "Requirement already satisfied: namex in /usr/local/lib/python3.10/dist-packages (from keras>=3.2.0->tensorflow) (0.0.8)\n",
            "Requirement already satisfied: optree in /usr/local/lib/python3.10/dist-packages (from keras>=3.2.0->tensorflow) (0.13.1)\n",
            "Requirement already satisfied: charset-normalizer<4,>=2 in /usr/local/lib/python3.10/dist-packages (from requests<3,>=2.21.0->tensorflow) (3.4.0)\n",
            "Requirement already satisfied: idna<4,>=2.5 in /usr/local/lib/python3.10/dist-packages (from requests<3,>=2.21.0->tensorflow) (3.10)\n",
            "Requirement already satisfied: urllib3<3,>=1.21.1 in /usr/local/lib/python3.10/dist-packages (from requests<3,>=2.21.0->tensorflow) (2.2.3)\n",
            "Requirement already satisfied: certifi>=2017.4.17 in /usr/local/lib/python3.10/dist-packages (from requests<3,>=2.21.0->tensorflow) (2024.8.30)\n",
            "Requirement already satisfied: markdown>=2.6.8 in /usr/local/lib/python3.10/dist-packages (from tensorboard<2.18,>=2.17->tensorflow) (3.7)\n",
            "Requirement already satisfied: tensorboard-data-server<0.8.0,>=0.7.0 in /usr/local/lib/python3.10/dist-packages (from tensorboard<2.18,>=2.17->tensorflow) (0.7.2)\n",
            "Requirement already satisfied: werkzeug>=1.0.1 in /usr/local/lib/python3.10/dist-packages (from tensorboard<2.18,>=2.17->tensorflow) (3.1.3)\n",
            "Requirement already satisfied: MarkupSafe>=2.1.1 in /usr/local/lib/python3.10/dist-packages (from werkzeug>=1.0.1->tensorboard<2.18,>=2.17->tensorflow) (3.0.2)\n",
            "Requirement already satisfied: markdown-it-py>=2.2.0 in /usr/local/lib/python3.10/dist-packages (from rich->keras>=3.2.0->tensorflow) (3.0.0)\n",
            "Requirement already satisfied: pygments<3.0.0,>=2.13.0 in /usr/local/lib/python3.10/dist-packages (from rich->keras>=3.2.0->tensorflow) (2.18.0)\n",
            "Requirement already satisfied: mdurl~=0.1 in /usr/local/lib/python3.10/dist-packages (from markdown-it-py>=2.2.0->rich->keras>=3.2.0->tensorflow) (0.1.2)\n"
          ]
        }
      ]
    },
    {
      "cell_type": "code",
      "source": [
        "import tensorflow\n",
        "from tensorflow import keras\n",
        "from keras import Sequential\n",
        "from keras.layers import Dense, Flatten\n",
        "from keras.applications.vgg16 import VGG16"
      ],
      "metadata": {
        "id": "T2Qq7ueXSCUF"
      },
      "execution_count": 38,
      "outputs": []
    },
    {
      "cell_type": "code",
      "source": [
        "conv_base =VGG16(weights='imagenet',\n",
        "                 include_top=False,\n",
        "                 input_shape=(150,150,3)\n",
        "                 )"
      ],
      "metadata": {
        "id": "D3IVft0NgZ1o",
        "colab": {
          "base_uri": "https://localhost:8080/"
        },
        "outputId": "1a856120-bd43-4e9f-8136-26101d591508"
      },
      "execution_count": 14,
      "outputs": [
        {
          "output_type": "stream",
          "name": "stdout",
          "text": [
            "Downloading data from https://storage.googleapis.com/tensorflow/keras-applications/vgg16/vgg16_weights_tf_dim_ordering_tf_kernels_notop.h5\n",
            "\u001b[1m58889256/58889256\u001b[0m \u001b[32m━━━━━━━━━━━━━━━━━━━━\u001b[0m\u001b[37m\u001b[0m \u001b[1m0s\u001b[0m 0us/step\n"
          ]
        }
      ]
    },
    {
      "cell_type": "markdown",
      "source": [
        "## **Fine Tuning**"
      ],
      "metadata": {
        "id": "-iaxzdC_1BuP"
      }
    },
    {
      "cell_type": "code",
      "source": [
        "conv_base.trainable=True"
      ],
      "metadata": {
        "id": "xANQMPL27ACr"
      },
      "execution_count": 35,
      "outputs": []
    },
    {
      "cell_type": "code",
      "source": [
        "set_trainable=False\n",
        "for layer in conv_base.layers:\n",
        "  if layer.name=='block5_conv1':\n",
        "    set_trainable=True\n",
        "  if set_trainable:\n",
        "    layer.trainable=True\n",
        "  else:\n",
        "    layer.trainable=False\n",
        "for layer in conv_base.layers:\n",
        "  print(layer.name, layer.trainable)"
      ],
      "metadata": {
        "colab": {
          "base_uri": "https://localhost:8080/"
        },
        "id": "7htWN33e669W",
        "outputId": "a31a5948-0d08-482c-c59d-3a9f2221c091"
      },
      "execution_count": 37,
      "outputs": [
        {
          "output_type": "stream",
          "name": "stdout",
          "text": [
            "input_layer False\n",
            "block1_conv1 False\n",
            "block1_conv2 False\n",
            "block1_pool False\n",
            "block2_conv1 False\n",
            "block2_conv2 False\n",
            "block2_pool False\n",
            "block3_conv1 False\n",
            "block3_conv2 False\n",
            "block3_conv3 False\n",
            "block3_pool False\n",
            "block4_conv1 False\n",
            "block4_conv2 False\n",
            "block4_conv3 False\n",
            "block4_pool False\n",
            "block5_conv1 True\n",
            "block5_conv2 True\n",
            "block5_conv3 True\n",
            "block5_pool True\n"
          ]
        }
      ]
    },
    {
      "cell_type": "code",
      "source": [
        "conv_base.summary()"
      ],
      "metadata": {
        "id": "3W3Dny5G6ovI"
      },
      "execution_count": null,
      "outputs": []
    },
    {
      "cell_type": "code",
      "source": [
        "model =Sequential()\n",
        "model.add(conv_base)\n",
        "model.add(Flatten())\n",
        "model.add(Dense(256,activation='relu'))\n",
        "model.add(Dense(1,activation='sigmoid'))"
      ],
      "metadata": {
        "id": "tIB3FZye6mF2"
      },
      "execution_count": null,
      "outputs": []
    },
    {
      "cell_type": "code",
      "source": [
        "batch_size= 16 #data aumentation\n",
        "train_datagen = ImageDataGenerator(rescale=1./255,\n",
        "                                   shear_range=0.2,\n",
        "                                   zoom_range=0.2,\n",
        "                                   horizontal_flip=True)\n",
        "test_datagen = ImageDataGenerator(rescale=1./255)\n",
        "train_generator=train_datagen.flow_from_directory('/content/train',\n",
        "                                                  target_size=(150,150),\n",
        "                                                  batch_size=batch_size,\n",
        "                                                  class_mode='binary')\n",
        "validation_generator=test_datagen.flow_from_directory('/content/test',\n",
        "                                                      target_size=(150,150),\n",
        "                                                      batch_size=batch_size,\n",
        "                                                      class_mode='binary')"
      ],
      "metadata": {
        "colab": {
          "base_uri": "https://localhost:8080/"
        },
        "id": "lmhPfOeJjnNz",
        "outputId": "a6c1aaf2-d4eb-4095-eae2-d68de7f6091d"
      },
      "execution_count": 19,
      "outputs": [
        {
          "output_type": "stream",
          "name": "stdout",
          "text": [
            "Found 557 images belonging to 2 classes.\n",
            "Found 140 images belonging to 2 classes.\n"
          ]
        }
      ]
    },
    {
      "cell_type": "markdown",
      "source": [
        "Below line of code prepare model for training by specifying how it will learn and optimize its performance during the training process using the RMSprp optimizer"
      ],
      "metadata": {
        "id": "z2CqYzfIzRpo"
      }
    },
    {
      "cell_type": "code",
      "source": [
        "model.compile(optimizer=keras.optimizers.RMSprop(learning_rate=1e-5),loss='binary_crossentropy',metrics=['accuracy'])"
      ],
      "metadata": {
        "id": "G1Z4ktpZkryb"
      },
      "execution_count": 20,
      "outputs": []
    },
    {
      "cell_type": "code",
      "source": [
        "history=model.fit(train_generator,\n",
        "                  steps_per_epoch=100,\n",
        "                  epochs=10,\n",
        "                  validation_data=validation_generator)"
      ],
      "metadata": {
        "colab": {
          "base_uri": "https://localhost:8080/"
        },
        "id": "IL4838WIYxwH",
        "outputId": "8e5b3b3a-9a71-4dd1-b4b1-8930506fa0a4"
      },
      "execution_count": 23,
      "outputs": [
        {
          "output_type": "stream",
          "name": "stdout",
          "text": [
            "Epoch 1/10\n",
            "\u001b[1m 35/100\u001b[0m \u001b[32m━━━━━━━\u001b[0m\u001b[37m━━━━━━━━━━━━━\u001b[0m \u001b[1m4:58\u001b[0m 5s/step - accuracy: 0.9529 - loss: 0.1609"
          ]
        },
        {
          "output_type": "stream",
          "name": "stderr",
          "text": [
            "/usr/lib/python3.10/contextlib.py:153: UserWarning: Your input ran out of data; interrupting training. Make sure that your dataset or generator can generate at least `steps_per_epoch * epochs` batches. You may need to use the `.repeat()` function when building your dataset.\n",
            "  self.gen.throw(typ, value, traceback)\n"
          ]
        },
        {
          "output_type": "stream",
          "name": "stdout",
          "text": [
            "\b\b\b\b\b\b\b\b\b\b\b\b\b\b\b\b\b\b\b\b\b\b\b\b\b\b\b\b\b\b\b\b\b\b\b\b\b\b\b\b\b\b\b\b\b\b\b\b\b\b\b\b\b\b\b\b\b\b\b\b\b\b\b\b\b\b\b\b\b\b\b\b\b\b\b\r\u001b[1m100/100\u001b[0m \u001b[32m━━━━━━━━━━━━━━━━━━━━\u001b[0m\u001b[37m\u001b[0m \u001b[1m197s\u001b[0m 2s/step - accuracy: 0.9497 - loss: 0.1565 - val_accuracy: 0.7857 - val_loss: 0.3861\n",
            "Epoch 2/10\n",
            "\u001b[1m100/100\u001b[0m \u001b[32m━━━━━━━━━━━━━━━━━━━━\u001b[0m\u001b[37m\u001b[0m \u001b[1m197s\u001b[0m 2s/step - accuracy: 0.9432 - loss: 0.1484 - val_accuracy: 0.7643 - val_loss: 0.4122\n",
            "Epoch 3/10\n",
            "\u001b[1m100/100\u001b[0m \u001b[32m━━━━━━━━━━━━━━━━━━━━\u001b[0m\u001b[37m\u001b[0m \u001b[1m197s\u001b[0m 2s/step - accuracy: 0.9750 - loss: 0.1035 - val_accuracy: 0.8000 - val_loss: 0.3757\n",
            "Epoch 4/10\n",
            "\u001b[1m100/100\u001b[0m \u001b[32m━━━━━━━━━━━━━━━━━━━━\u001b[0m\u001b[37m\u001b[0m \u001b[1m201s\u001b[0m 2s/step - accuracy: 0.9705 - loss: 0.0946 - val_accuracy: 0.8286 - val_loss: 0.4006\n",
            "Epoch 5/10\n",
            "\u001b[1m100/100\u001b[0m \u001b[32m━━━━━━━━━━━━━━━━━━━━\u001b[0m\u001b[37m\u001b[0m \u001b[1m198s\u001b[0m 2s/step - accuracy: 0.9814 - loss: 0.0807 - val_accuracy: 0.8143 - val_loss: 0.4238\n",
            "Epoch 6/10\n",
            "\u001b[1m100/100\u001b[0m \u001b[32m━━━━━━━━━━━━━━━━━━━━\u001b[0m\u001b[37m\u001b[0m \u001b[1m197s\u001b[0m 2s/step - accuracy: 0.9906 - loss: 0.0704 - val_accuracy: 0.8000 - val_loss: 0.4190\n",
            "Epoch 7/10\n",
            "\u001b[1m100/100\u001b[0m \u001b[32m━━━━━━━━━━━━━━━━━━━━\u001b[0m\u001b[37m\u001b[0m \u001b[1m198s\u001b[0m 2s/step - accuracy: 0.9901 - loss: 0.0568 - val_accuracy: 0.8286 - val_loss: 0.4605\n",
            "Epoch 8/10\n",
            "\u001b[1m100/100\u001b[0m \u001b[32m━━━━━━━━━━━━━━━━━━━━\u001b[0m\u001b[37m\u001b[0m \u001b[1m201s\u001b[0m 2s/step - accuracy: 0.9837 - loss: 0.0607 - val_accuracy: 0.8143 - val_loss: 0.4696\n",
            "Epoch 9/10\n",
            "\u001b[1m100/100\u001b[0m \u001b[32m━━━━━━━━━━━━━━━━━━━━\u001b[0m\u001b[37m\u001b[0m \u001b[1m198s\u001b[0m 2s/step - accuracy: 0.9849 - loss: 0.0605 - val_accuracy: 0.8071 - val_loss: 0.4224\n",
            "Epoch 10/10\n",
            "\u001b[1m100/100\u001b[0m \u001b[32m━━━━━━━━━━━━━━━━━━━━\u001b[0m\u001b[37m\u001b[0m \u001b[1m201s\u001b[0m 2s/step - accuracy: 0.9942 - loss: 0.0418 - val_accuracy: 0.7929 - val_loss: 0.4522\n"
          ]
        }
      ]
    },
    {
      "cell_type": "code",
      "source": [
        "from sklearn.metrics import confusion_matrix, f1_score\n",
        "import numpy as np"
      ],
      "metadata": {
        "id": "tfTBge6VuGpx"
      },
      "execution_count": 27,
      "outputs": []
    },
    {
      "cell_type": "code",
      "source": [
        "validation_steps = len(validation_generator)  #calculating predicted classes\n",
        "predictions = model.predict(validation_generator, steps=validation_steps)\n",
        "predicted_classes = (predictions > 0.5).astype(int)  # Convert probabilities to class labels (0 or 1)"
      ],
      "metadata": {
        "colab": {
          "base_uri": "https://localhost:8080/"
        },
        "id": "xst8EdZkuLof",
        "outputId": "b3fe03c0-d9f3-421d-d9e6-4f622f95a56a"
      },
      "execution_count": 28,
      "outputs": [
        {
          "output_type": "stream",
          "name": "stdout",
          "text": [
            "\u001b[1m9/9\u001b[0m \u001b[32m━━━━━━━━━━━━━━━━━━━━\u001b[0m\u001b[37m\u001b[0m \u001b[1m35s\u001b[0m 4s/step\n"
          ]
        }
      ]
    },
    {
      "cell_type": "code",
      "source": [
        "true_classes = validation_generator.classes  # Calculatig true classes to retrives the actual labels associated with validation dataset"
      ],
      "metadata": {
        "id": "mL9DOKbhuczs"
      },
      "execution_count": 29,
      "outputs": []
    },
    {
      "cell_type": "code",
      "source": [
        "cm = confusion_matrix(true_classes, predicted_classes)#Confusion Matrix\n",
        "print(\"Confusion Matrix:\")\n",
        "print(cm)"
      ],
      "metadata": {
        "colab": {
          "base_uri": "https://localhost:8080/"
        },
        "id": "jJagW3uCupWD",
        "outputId": "a8820128-d71a-462b-912a-ac57d4911290"
      },
      "execution_count": 31,
      "outputs": [
        {
          "output_type": "stream",
          "name": "stdout",
          "text": [
            "Confusion Matrix:\n",
            "[[37 33]\n",
            " [34 36]]\n"
          ]
        }
      ]
    },
    {
      "cell_type": "code",
      "source": [
        "f1 = f1_score(true_classes, predicted_classes)# F1 SCORE\n",
        "print(\"F1 Score:\", f1)"
      ],
      "metadata": {
        "colab": {
          "base_uri": "https://localhost:8080/"
        },
        "id": "uUoERO8busQ7",
        "outputId": "22f505fd-dc7a-4ce3-a85e-7cef84b20857"
      },
      "execution_count": 32,
      "outputs": [
        {
          "output_type": "stream",
          "name": "stdout",
          "text": [
            "F1 Score: 0.5179856115107914\n"
          ]
        }
      ]
    },
    {
      "cell_type": "markdown",
      "source": [
        "Conclusion\n",
        "\n",
        "This project aimed to develop an image classification model capable of distinguishing between images of cats and dogs. Using a subset of the Kaggle \"Cats and Dogs Image Classification\" dataset and the pre-trained VGG16 convolutional neural network architecture within the Google Colab environment, the project successfully trained a model for this task.The project utilized the VGG16 model pre-trained on the ImageNet dataset as a base, leveraging transfer learning to accelerate the training process. The model was fine-tuned by unfreezing certain layers and training them specifically on the cats and dogs dataset. Crucially, data augmentation techniques, including random image shearing, zooming, and horizontal flipping, were applied to artificially expand the training dataset. This approach aimed to increase the diversity of the training data, thereby improving the model's generalization ability and robustness to variations in real-world images.The performance of the trained model was assessed using metrics such as the F1 score. The achieved F1 score of approximately 0.52 indicates that the model has moderate classification ability. While exceeding random chance, it reveals areas for potential improvement. The confusion matrix provided further insights into the model's performance, highlighting specific types of classification errors."
      ],
      "metadata": {
        "id": "aXY5Oxhjwh50"
      }
    },
    {
      "cell_type": "code",
      "source": [],
      "metadata": {
        "id": "Frj-InlvwGwc"
      },
      "execution_count": null,
      "outputs": []
    }
  ]
}